{
  "nbformat": 4,
  "nbformat_minor": 0,
  "metadata": {
    "colab": {
      "provenance": [],
      "authorship_tag": "ABX9TyNAaU+ytw6jzl/4Ae02apVF",
      "include_colab_link": true
    },
    "kernelspec": {
      "name": "python3",
      "display_name": "Python 3"
    },
    "language_info": {
      "name": "python"
    }
  },
  "cells": [
    {
      "cell_type": "markdown",
      "metadata": {
        "id": "view-in-github",
        "colab_type": "text"
      },
      "source": [
        "<a href=\"https://colab.research.google.com/github/vaigai138/PySpark-Task1/blob/main/Preprocessing_Pyspark.ipynb\" target=\"_parent\"><img src=\"https://colab.research.google.com/assets/colab-badge.svg\" alt=\"Open In Colab\"/></a>"
      ]
    },
    {
      "cell_type": "code",
      "execution_count": null,
      "metadata": {
        "id": "Cw2giOHWTWs0"
      },
      "outputs": [],
      "source": [
        "from pyspark.sql import SparkSession"
      ]
    },
    {
      "cell_type": "code",
      "source": [
        "spark = SparkSession.builder.appName(\"Nlp\").getOrCreate()"
      ],
      "metadata": {
        "id": "rkmfDu1UUp-h"
      },
      "execution_count": null,
      "outputs": []
    },
    {
      "cell_type": "code",
      "source": [
        "from pyspark.ml.feature import Tokenizer, RegexTokenizer\n",
        "from pyspark.sql.functions import col, udf\n",
        "from pyspark.sql.types import IntegerType\n"
      ],
      "metadata": {
        "id": "4chKqPnhUr99"
      },
      "execution_count": null,
      "outputs": []
    },
    {
      "cell_type": "code",
      "source": [
        "sent_df = spark.read.csv(\"/content/questions.csv\")"
      ],
      "metadata": {
        "id": "2UnOukpfUv6V"
      },
      "execution_count": null,
      "outputs": []
    },
    {
      "cell_type": "code",
      "source": [
        "sent_df.show(5)"
      ],
      "metadata": {
        "colab": {
          "base_uri": "https://localhost:8080/"
        },
        "id": "oM9pCMZ7U6PF",
        "outputId": "fa574dbb-716c-488a-dd68-09683c037225"
      },
      "execution_count": null,
      "outputs": [
        {
          "output_type": "stream",
          "name": "stdout",
          "text": [
            "+---+----+----+--------------------+--------------------+------------+\n",
            "|_c0| _c1| _c2|                 _c3|                 _c4|         _c5|\n",
            "+---+----+----+--------------------+--------------------+------------+\n",
            "| id|qid1|qid2|           question1|           question2|is_duplicate|\n",
            "|  0|   1|   2|What is the step ...|What is the step ...|           0|\n",
            "|  1|   3|   4|What is the story...|What would happen...|           0|\n",
            "|  2|   5|   6|How can I increas...|How can Internet ...|           0|\n",
            "|  3|   7|   8|Why am I mentally...|Find the remainde...|           0|\n",
            "+---+----+----+--------------------+--------------------+------------+\n",
            "only showing top 5 rows\n",
            "\n"
          ]
        }
      ]
    },
    {
      "cell_type": "code",
      "source": [
        "tokenizer = Tokenizer(inputCol=\"_c3\", outputCol=\"words\")\n",
        "\n",
        "regextokenizer = RegexTokenizer(inputCol=\"_c3\", outputCol=\"words\", pattern=\"\\\\W\")\n",
        "\n",
        "count_tokens = udf(lambda words: len(words), IntegerType())"
      ],
      "metadata": {
        "id": "y4ne1OE5U-mL"
      },
      "execution_count": null,
      "outputs": []
    },
    {
      "cell_type": "code",
      "source": [
        "tokenized = tokenizer.transform(sent_df)"
      ],
      "metadata": {
        "id": "5DRF-fIlVbWi"
      },
      "execution_count": null,
      "outputs": []
    },
    {
      "cell_type": "code",
      "source": [
        "tokenized.show(5)"
      ],
      "metadata": {
        "colab": {
          "base_uri": "https://localhost:8080/"
        },
        "id": "Yh42N5adVd-z",
        "outputId": "fe4a04b5-678c-4615-e5d2-d915fc0575d1"
      },
      "execution_count": null,
      "outputs": [
        {
          "output_type": "stream",
          "name": "stdout",
          "text": [
            "+---+----+----+--------------------+--------------------+------------+--------------------+\n",
            "|_c0| _c1| _c2|                 _c3|                 _c4|         _c5|               words|\n",
            "+---+----+----+--------------------+--------------------+------------+--------------------+\n",
            "| id|qid1|qid2|           question1|           question2|is_duplicate|         [question1]|\n",
            "|  0|   1|   2|What is the step ...|What is the step ...|           0|[what, is, the, s...|\n",
            "|  1|   3|   4|What is the story...|What would happen...|           0|[what, is, the, s...|\n",
            "|  2|   5|   6|How can I increas...|How can Internet ...|           0|[how, can, i, inc...|\n",
            "|  3|   7|   8|Why am I mentally...|Find the remainde...|           0|[why, am, i, ment...|\n",
            "+---+----+----+--------------------+--------------------+------------+--------------------+\n",
            "only showing top 5 rows\n",
            "\n"
          ]
        }
      ]
    },
    {
      "cell_type": "code",
      "source": [
        "tokenized.select(\"_c3\",\"words\").withColumn(\"tokens\",count_tokens(col(\"words\"))).show(5)"
      ],
      "metadata": {
        "colab": {
          "base_uri": "https://localhost:8080/"
        },
        "id": "rvGsun5xVf6t",
        "outputId": "8db7e382-f744-4794-c8a4-e61a5f23f918"
      },
      "execution_count": null,
      "outputs": [
        {
          "output_type": "stream",
          "name": "stdout",
          "text": [
            "+--------------------+--------------------+------+\n",
            "|                 _c3|               words|tokens|\n",
            "+--------------------+--------------------+------+\n",
            "|           question1|         [question1]|     1|\n",
            "|What is the step ...|[what, is, the, s...|    14|\n",
            "|What is the story...|[what, is, the, s...|     8|\n",
            "|How can I increas...|[how, can, i, inc...|    14|\n",
            "|Why am I mentally...|[why, am, i, ment...|    11|\n",
            "+--------------------+--------------------+------+\n",
            "only showing top 5 rows\n",
            "\n"
          ]
        }
      ]
    },
    {
      "cell_type": "code",
      "source": [
        "regextokenizered = regextokenizer.transform(sent_df)\n",
        "regextokenizered.select(\"_c3\",\"words\").withColumn(\"tokens\",count_tokens(col(\"words\"))).show(5)"
      ],
      "metadata": {
        "colab": {
          "base_uri": "https://localhost:8080/"
        },
        "id": "b-R2YWzwWNFP",
        "outputId": "1b865bd6-53bc-4aa9-b6da-0379e95f6ded"
      },
      "execution_count": null,
      "outputs": [
        {
          "output_type": "stream",
          "name": "stdout",
          "text": [
            "+--------------------+--------------------+------+\n",
            "|                 _c3|               words|tokens|\n",
            "+--------------------+--------------------+------+\n",
            "|           question1|         [question1]|     1|\n",
            "|What is the step ...|[what, is, the, s...|    14|\n",
            "|What is the story...|[what, is, the, s...|    10|\n",
            "|How can I increas...|[how, can, i, inc...|    14|\n",
            "|Why am I mentally...|[why, am, i, ment...|    11|\n",
            "+--------------------+--------------------+------+\n",
            "only showing top 5 rows\n",
            "\n"
          ]
        }
      ]
    },
    {
      "source": [
        "from IPython import get_ipython\n",
        "from IPython.display import display\n",
        "from pyspark.sql import SparkSession\n",
        "from pyspark.ml.feature import Tokenizer, RegexTokenizer\n",
        "from pyspark.sql.functions import col, udf\n",
        "from pyspark.sql.types import IntegerType\n",
        "from pyspark.ml.feature import StopWordsRemover, IDF, HashingTF\n",
        "\n",
        "spark = SparkSession.builder.appName(\"Nlp\").getOrCreate()\n",
        "\n",
        "sent_df = spark.read.csv(\"/content/questions.csv\")\n",
        "sent_df.show(5)\n",
        "\n",
        "\n",
        "tokenizer = Tokenizer(inputCol=\"_c3\", outputCol=\"words\")\n",
        "regextokenizer = RegexTokenizer(inputCol=\"_c3\", outputCol=\"words\", pattern=\"\\\\W\")\n",
        "count_tokens = udf(lambda words: len(words), IntegerType())\n",
        "\n",
        "tokenized = tokenizer.transform(sent_df)\n",
        "tokenized.show(5)\n",
        "tokenized.select(\"_c3\",\"words\").withColumn(\"tokens\",count_tokens(col(\"words\"))).show(5)\n",
        "\n",
        "regextokenizered = regextokenizer.transform(sent_df)\n",
        "regextokenizered.select(\"_c3\",\"words\").withColumn(\"tokens\",count_tokens(col(\"words\"))).show(5)\n",
        "\n",
        "remover = StopWordsRemover(inputCol=\"words\", outputCol=\"filtered\")\n",
        "removed = remover.transform(regextokenizered)\n",
        "removed.show(5)\n",
        "\n",
        "hashingTF = HashingTF(inputCol=\"filtered\", outputCol=\"rawFeatures\", numFeatures=20)\n",
        "featurizedData = hashingTF.transform(removed)\n",
        "featurizedData.show(5)\n",
        "\n",
        "# # Apply IDF\n",
        "# idf = IDF(inputCol=\"rawFeatures\", outputCol=\"features\")\n",
        "# idfModel = idf.fit(featurizedData)\n",
        "# rescaledData = idfModel.transform(featurizedData)\n",
        "# rescaledData.select(\"words\", \"features\").show(5)"
      ],
      "cell_type": "code",
      "metadata": {
        "colab": {
          "base_uri": "https://localhost:8080/"
        },
        "id": "zFKfKrH9c66n",
        "outputId": "4b68e438-61a0-4663-d831-77fe66438c66"
      },
      "execution_count": 4,
      "outputs": [
        {
          "output_type": "stream",
          "name": "stdout",
          "text": [
            "+---+----+----+--------------------+--------------------+------------+\n",
            "|_c0| _c1| _c2|                 _c3|                 _c4|         _c5|\n",
            "+---+----+----+--------------------+--------------------+------------+\n",
            "| id|qid1|qid2|           question1|           question2|is_duplicate|\n",
            "|  0|   1|   2|What is the step ...|What is the step ...|           0|\n",
            "|  1|   3|   4|What is the story...|What would happen...|           0|\n",
            "|  2|   5|   6|How can I increas...|How can Internet ...|           0|\n",
            "|  3|   7|   8|Why am I mentally...|Find the remainde...|           0|\n",
            "+---+----+----+--------------------+--------------------+------------+\n",
            "only showing top 5 rows\n",
            "\n",
            "+---+----+----+--------------------+--------------------+------------+--------------------+\n",
            "|_c0| _c1| _c2|                 _c3|                 _c4|         _c5|               words|\n",
            "+---+----+----+--------------------+--------------------+------------+--------------------+\n",
            "| id|qid1|qid2|           question1|           question2|is_duplicate|         [question1]|\n",
            "|  0|   1|   2|What is the step ...|What is the step ...|           0|[what, is, the, s...|\n",
            "|  1|   3|   4|What is the story...|What would happen...|           0|[what, is, the, s...|\n",
            "|  2|   5|   6|How can I increas...|How can Internet ...|           0|[how, can, i, inc...|\n",
            "|  3|   7|   8|Why am I mentally...|Find the remainde...|           0|[why, am, i, ment...|\n",
            "+---+----+----+--------------------+--------------------+------------+--------------------+\n",
            "only showing top 5 rows\n",
            "\n",
            "+--------------------+--------------------+------+\n",
            "|                 _c3|               words|tokens|\n",
            "+--------------------+--------------------+------+\n",
            "|           question1|         [question1]|     1|\n",
            "|What is the step ...|[what, is, the, s...|    14|\n",
            "|What is the story...|[what, is, the, s...|     8|\n",
            "|How can I increas...|[how, can, i, inc...|    14|\n",
            "|Why am I mentally...|[why, am, i, ment...|    11|\n",
            "+--------------------+--------------------+------+\n",
            "only showing top 5 rows\n",
            "\n",
            "+--------------------+--------------------+------+\n",
            "|                 _c3|               words|tokens|\n",
            "+--------------------+--------------------+------+\n",
            "|           question1|         [question1]|     1|\n",
            "|What is the step ...|[what, is, the, s...|    14|\n",
            "|What is the story...|[what, is, the, s...|    10|\n",
            "|How can I increas...|[how, can, i, inc...|    14|\n",
            "|Why am I mentally...|[why, am, i, ment...|    11|\n",
            "+--------------------+--------------------+------+\n",
            "only showing top 5 rows\n",
            "\n",
            "+---+----+----+--------------------+--------------------+------------+--------------------+--------------------+\n",
            "|_c0| _c1| _c2|                 _c3|                 _c4|         _c5|               words|            filtered|\n",
            "+---+----+----+--------------------+--------------------+------------+--------------------+--------------------+\n",
            "| id|qid1|qid2|           question1|           question2|is_duplicate|         [question1]|         [question1]|\n",
            "|  0|   1|   2|What is the step ...|What is the step ...|           0|[what, is, the, s...|[step, step, guid...|\n",
            "|  1|   3|   4|What is the story...|What would happen...|           0|[what, is, the, s...|[story, kohinoor,...|\n",
            "|  2|   5|   6|How can I increas...|How can Internet ...|           0|[how, can, i, inc...|[increase, speed,...|\n",
            "|  3|   7|   8|Why am I mentally...|Find the remainde...|           0|[why, am, i, ment...|[mentally, lonely...|\n",
            "+---+----+----+--------------------+--------------------+------------+--------------------+--------------------+\n",
            "only showing top 5 rows\n",
            "\n",
            "+---+----+----+--------------------+--------------------+------------+--------------------+--------------------+--------------------+\n",
            "|_c0| _c1| _c2|                 _c3|                 _c4|         _c5|               words|            filtered|         rawFeatures|\n",
            "+---+----+----+--------------------+--------------------+------------+--------------------+--------------------+--------------------+\n",
            "| id|qid1|qid2|           question1|           question2|is_duplicate|         [question1]|         [question1]|     (20,[15],[1.0])|\n",
            "|  0|   1|   2|What is the step ...|What is the step ...|           0|[what, is, the, s...|[step, step, guid...|(20,[1,4,7,17,18]...|\n",
            "|  1|   3|   4|What is the story...|What would happen...|           0|[what, is, the, s...|[story, kohinoor,...|(20,[0,2,3,11,15]...|\n",
            "|  2|   5|   6|How can I increas...|How can Internet ...|           0|[how, can, i, inc...|[increase, speed,...|(20,[0,1,3,11,16,...|\n",
            "|  3|   7|   8|Why am I mentally...|Find the remainde...|           0|[why, am, i, ment...|[mentally, lonely...|(20,[0,1,12],[1.0...|\n",
            "+---+----+----+--------------------+--------------------+------------+--------------------+--------------------+--------------------+\n",
            "only showing top 5 rows\n",
            "\n"
          ]
        }
      ]
    },
    {
      "cell_type": "code",
      "source": [],
      "metadata": {
        "id": "zRb0uXJgfKgV"
      },
      "execution_count": null,
      "outputs": []
    }
  ]
}