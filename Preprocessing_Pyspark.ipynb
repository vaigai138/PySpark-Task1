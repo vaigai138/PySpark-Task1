{
  "nbformat": 4,
  "nbformat_minor": 0,
  "metadata": {
    "colab": {
      "provenance": [],
      "authorship_tag": "ABX9TyOLkWss4GAeMx8BV3FwGOsZ",
      "include_colab_link": true
    },
    "kernelspec": {
      "name": "python3",
      "display_name": "Python 3"
    },
    "language_info": {
      "name": "python"
    }
  },
  "cells": [
    {
      "cell_type": "markdown",
      "metadata": {
        "id": "view-in-github",
        "colab_type": "text"
      },
      "source": [
        "<a href=\"https://colab.research.google.com/github/vaigai138/PySpark-Task1/blob/main/Preprocessing_Pyspark.ipynb\" target=\"_parent\"><img src=\"https://colab.research.google.com/assets/colab-badge.svg\" alt=\"Open In Colab\"/></a>"
      ]
    },
    {
      "cell_type": "code",
      "execution_count": 1,
      "metadata": {
        "id": "Cw2giOHWTWs0"
      },
      "outputs": [],
      "source": [
        "from pyspark.sql import SparkSession"
      ]
    },
    {
      "cell_type": "code",
      "source": [
        "spark = SparkSession.builder.appName(\"Nlp\").getOrCreate()"
      ],
      "metadata": {
        "id": "rkmfDu1UUp-h"
      },
      "execution_count": 2,
      "outputs": []
    },
    {
      "cell_type": "code",
      "source": [
        "from pyspark.ml.feature import Tokenizer, RegexTokenizer\n",
        "from pyspark.sql.functions import col, udf\n",
        "from pyspark.sql.types import IntegerType\n"
      ],
      "metadata": {
        "id": "4chKqPnhUr99"
      },
      "execution_count": 3,
      "outputs": []
    },
    {
      "cell_type": "code",
      "source": [
        "sent_df = spark.read.csv(\"/content/questions.csv\")"
      ],
      "metadata": {
        "id": "2UnOukpfUv6V"
      },
      "execution_count": 4,
      "outputs": []
    },
    {
      "cell_type": "code",
      "source": [
        "sent_df.show(5)"
      ],
      "metadata": {
        "colab": {
          "base_uri": "https://localhost:8080/"
        },
        "id": "oM9pCMZ7U6PF",
        "outputId": "fa574dbb-716c-488a-dd68-09683c037225"
      },
      "execution_count": 5,
      "outputs": [
        {
          "output_type": "stream",
          "name": "stdout",
          "text": [
            "+---+----+----+--------------------+--------------------+------------+\n",
            "|_c0| _c1| _c2|                 _c3|                 _c4|         _c5|\n",
            "+---+----+----+--------------------+--------------------+------------+\n",
            "| id|qid1|qid2|           question1|           question2|is_duplicate|\n",
            "|  0|   1|   2|What is the step ...|What is the step ...|           0|\n",
            "|  1|   3|   4|What is the story...|What would happen...|           0|\n",
            "|  2|   5|   6|How can I increas...|How can Internet ...|           0|\n",
            "|  3|   7|   8|Why am I mentally...|Find the remainde...|           0|\n",
            "+---+----+----+--------------------+--------------------+------------+\n",
            "only showing top 5 rows\n",
            "\n"
          ]
        }
      ]
    },
    {
      "cell_type": "code",
      "source": [
        "tokenizer = Tokenizer(inputCol=\"_c3\", outputCol=\"words\")\n",
        "\n",
        "regextokenizer = RegexTokenizer(inputCol=\"_c3\", outputCol=\"words\", pattern=\"\\\\W\")\n",
        "\n",
        "count_tokens = udf(lambda words: len(words), IntegerType())"
      ],
      "metadata": {
        "id": "y4ne1OE5U-mL"
      },
      "execution_count": 6,
      "outputs": []
    },
    {
      "cell_type": "code",
      "source": [
        "tokenized = tokenizer.transform(sent_df)"
      ],
      "metadata": {
        "id": "5DRF-fIlVbWi"
      },
      "execution_count": 7,
      "outputs": []
    },
    {
      "cell_type": "code",
      "source": [
        "tokenized.show(5)"
      ],
      "metadata": {
        "colab": {
          "base_uri": "https://localhost:8080/"
        },
        "id": "Yh42N5adVd-z",
        "outputId": "fe4a04b5-678c-4615-e5d2-d915fc0575d1"
      },
      "execution_count": 9,
      "outputs": [
        {
          "output_type": "stream",
          "name": "stdout",
          "text": [
            "+---+----+----+--------------------+--------------------+------------+--------------------+\n",
            "|_c0| _c1| _c2|                 _c3|                 _c4|         _c5|               words|\n",
            "+---+----+----+--------------------+--------------------+------------+--------------------+\n",
            "| id|qid1|qid2|           question1|           question2|is_duplicate|         [question1]|\n",
            "|  0|   1|   2|What is the step ...|What is the step ...|           0|[what, is, the, s...|\n",
            "|  1|   3|   4|What is the story...|What would happen...|           0|[what, is, the, s...|\n",
            "|  2|   5|   6|How can I increas...|How can Internet ...|           0|[how, can, i, inc...|\n",
            "|  3|   7|   8|Why am I mentally...|Find the remainde...|           0|[why, am, i, ment...|\n",
            "+---+----+----+--------------------+--------------------+------------+--------------------+\n",
            "only showing top 5 rows\n",
            "\n"
          ]
        }
      ]
    },
    {
      "cell_type": "code",
      "source": [
        "tokenized.select(\"_c3\",\"words\").withColumn(\"tokens\",count_tokens(col(\"words\"))).show(5)"
      ],
      "metadata": {
        "colab": {
          "base_uri": "https://localhost:8080/"
        },
        "id": "rvGsun5xVf6t",
        "outputId": "8db7e382-f744-4794-c8a4-e61a5f23f918"
      },
      "execution_count": 11,
      "outputs": [
        {
          "output_type": "stream",
          "name": "stdout",
          "text": [
            "+--------------------+--------------------+------+\n",
            "|                 _c3|               words|tokens|\n",
            "+--------------------+--------------------+------+\n",
            "|           question1|         [question1]|     1|\n",
            "|What is the step ...|[what, is, the, s...|    14|\n",
            "|What is the story...|[what, is, the, s...|     8|\n",
            "|How can I increas...|[how, can, i, inc...|    14|\n",
            "|Why am I mentally...|[why, am, i, ment...|    11|\n",
            "+--------------------+--------------------+------+\n",
            "only showing top 5 rows\n",
            "\n"
          ]
        }
      ]
    },
    {
      "cell_type": "code",
      "source": [
        "regextokenizered = regextokenizer.transform(sent_df)\n",
        "regextokenizered.select(\"_c3\",\"words\").withColumn(\"tokens\",count_tokens(col(\"words\"))).show(5)"
      ],
      "metadata": {
        "colab": {
          "base_uri": "https://localhost:8080/"
        },
        "id": "b-R2YWzwWNFP",
        "outputId": "1b865bd6-53bc-4aa9-b6da-0379e95f6ded"
      },
      "execution_count": 12,
      "outputs": [
        {
          "output_type": "stream",
          "name": "stdout",
          "text": [
            "+--------------------+--------------------+------+\n",
            "|                 _c3|               words|tokens|\n",
            "+--------------------+--------------------+------+\n",
            "|           question1|         [question1]|     1|\n",
            "|What is the step ...|[what, is, the, s...|    14|\n",
            "|What is the story...|[what, is, the, s...|    10|\n",
            "|How can I increas...|[how, can, i, inc...|    14|\n",
            "|Why am I mentally...|[why, am, i, ment...|    11|\n",
            "+--------------------+--------------------+------+\n",
            "only showing top 5 rows\n",
            "\n"
          ]
        }
      ]
    },
    {
      "cell_type": "code",
      "source": [],
      "metadata": {
        "id": "Z9QqxnfeWmoB"
      },
      "execution_count": null,
      "outputs": []
    }
  ]
}