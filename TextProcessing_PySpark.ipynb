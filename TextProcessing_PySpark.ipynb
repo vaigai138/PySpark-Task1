{
  "nbformat": 4,
  "nbformat_minor": 0,
  "metadata": {
    "colab": {
      "provenance": []
    },
    "kernelspec": {
      "name": "python3",
      "display_name": "Python 3"
    },
    "language_info": {
      "name": "python"
    }
  },
  "cells": [
    {
      "cell_type": "code",
      "execution_count": 1,
      "metadata": {
        "id": "ErqsuVv1D5Mv"
      },
      "outputs": [],
      "source": [
        "from pyspark.sql import SparkSession"
      ]
    },
    {
      "cell_type": "code",
      "source": [
        "spark = SparkSession.builder.appName(\"Nlp\").getOrCreate()"
      ],
      "metadata": {
        "id": "74CWRX0nEI9p"
      },
      "execution_count": 2,
      "outputs": []
    },
    {
      "cell_type": "markdown",
      "source": [
        "**Tokenizer**"
      ],
      "metadata": {
        "id": "hTJgEZEQExm3"
      }
    },
    {
      "cell_type": "code",
      "source": [
        "from pyspark.ml.feature import Tokenizer, RegexTokenizer\n",
        "from pyspark.sql.functions import col, udf\n",
        "from pyspark.sql.types import IntegerType\n"
      ],
      "metadata": {
        "id": "iRSlDlQhE6tC"
      },
      "execution_count": 5,
      "outputs": []
    },
    {
      "cell_type": "code",
      "source": [
        "sent_df = spark.createDataFrame([\n",
        "    (1, \"Hi I heard about Spark\"),\n",
        "    (2, \"I wish Java could use case classes\"),\n",
        "    (3, \"Logistic regression models are neat\"),\n",
        "    (4,\"hey,how,are,you,doing\")\n",
        "], [\"id\", \"sentence\"])"
      ],
      "metadata": {
        "id": "e_C5h9uWLcgh"
      },
      "execution_count": 31,
      "outputs": []
    },
    {
      "cell_type": "code",
      "source": [
        "sent_df.show()"
      ],
      "metadata": {
        "colab": {
          "base_uri": "https://localhost:8080/"
        },
        "id": "_YeVcqVIL07E",
        "outputId": "ddcc0203-3109-491c-9a40-0302df3e1e63"
      },
      "execution_count": 24,
      "outputs": [
        {
          "output_type": "stream",
          "name": "stdout",
          "text": [
            "+---+--------------------+\n",
            "| id|            sentence|\n",
            "+---+--------------------+\n",
            "|  1|Hi I heard about ...|\n",
            "|  2|I wish Java could...|\n",
            "|  3|Logistic regressi...|\n",
            "+---+--------------------+\n",
            "\n"
          ]
        }
      ]
    },
    {
      "cell_type": "code",
      "source": [
        "tokenizer = Tokenizer(inputCol=\"sentence\", outputCol=\"words\")\n",
        "\n",
        "regextokenizer = RegexTokenizer(inputCol=\"sentence\", outputCol=\"words\", pattern=\"\\\\W\")\n",
        "\n",
        "countTokens = udf(lambda words: len(words), IntegerType())"
      ],
      "metadata": {
        "id": "R1ft3hrPL2_8"
      },
      "execution_count": 33,
      "outputs": []
    },
    {
      "cell_type": "code",
      "source": [
        "tokenized = tokenizer.transform(sent_df)"
      ],
      "metadata": {
        "id": "ixiqvVAkNGu4"
      },
      "execution_count": 34,
      "outputs": []
    },
    {
      "cell_type": "code",
      "source": [
        "tokenized.show()"
      ],
      "metadata": {
        "colab": {
          "base_uri": "https://localhost:8080/"
        },
        "id": "bzZzxoEPNPGL",
        "outputId": "0c303d00-5971-4c06-90bd-3dacef3c4f33"
      },
      "execution_count": 35,
      "outputs": [
        {
          "output_type": "stream",
          "name": "stdout",
          "text": [
            "+---+--------------------+--------------------+\n",
            "| id|            sentence|               words|\n",
            "+---+--------------------+--------------------+\n",
            "|  1|Hi I heard about ...|[hi, i, heard, ab...|\n",
            "|  2|I wish Java could...|[i, wish, java, c...|\n",
            "|  3|Logistic regressi...|[logistic, regres...|\n",
            "|  4|hey,how,are,you,d...|[hey,how,are,you,...|\n",
            "+---+--------------------+--------------------+\n",
            "\n"
          ]
        }
      ]
    },
    {
      "cell_type": "code",
      "source": [
        "tokenized.select(\"sentence\",\"words\").withColumn(\"tokens\",countTokens(col(\"words\"))).show()"
      ],
      "metadata": {
        "colab": {
          "base_uri": "https://localhost:8080/"
        },
        "id": "PM3PSWFXNQfm",
        "outputId": "6923b05a-8cba-4aeb-d3f5-78899ea83483"
      },
      "execution_count": 36,
      "outputs": [
        {
          "output_type": "stream",
          "name": "stdout",
          "text": [
            "+--------------------+--------------------+------+\n",
            "|            sentence|               words|tokens|\n",
            "+--------------------+--------------------+------+\n",
            "|Hi I heard about ...|[hi, i, heard, ab...|     5|\n",
            "|I wish Java could...|[i, wish, java, c...|     7|\n",
            "|Logistic regressi...|[logistic, regres...|     5|\n",
            "|hey,how,are,you,d...|[hey,how,are,you,...|     1|\n",
            "+--------------------+--------------------+------+\n",
            "\n"
          ]
        }
      ]
    },
    {
      "cell_type": "code",
      "source": [
        "regexTokenized = regextokenizer.transform(sent_df)\n",
        "regexTokenized.select(\"sentence\",\"words\").withColumn(\"tokens\",countTokens(col(\"words\"))).show()"
      ],
      "metadata": {
        "colab": {
          "base_uri": "https://localhost:8080/"
        },
        "id": "DCe51oTdOYQW",
        "outputId": "ac66c2d8-e0e1-4038-8049-16ebf881fff0"
      },
      "execution_count": 37,
      "outputs": [
        {
          "output_type": "stream",
          "name": "stdout",
          "text": [
            "+--------------------+--------------------+------+\n",
            "|            sentence|               words|tokens|\n",
            "+--------------------+--------------------+------+\n",
            "|Hi I heard about ...|[hi, i, heard, ab...|     5|\n",
            "|I wish Java could...|[i, wish, java, c...|     7|\n",
            "|Logistic regressi...|[logistic, regres...|     5|\n",
            "|hey,how,are,you,d...|[hey, how, are, y...|     5|\n",
            "+--------------------+--------------------+------+\n",
            "\n"
          ]
        }
      ]
    },
    {
      "cell_type": "code",
      "source": [],
      "metadata": {
        "id": "Artm2W31PqHm"
      },
      "execution_count": null,
      "outputs": []
    }
  ]
}